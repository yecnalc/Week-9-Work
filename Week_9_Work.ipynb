{
  "nbformat": 4,
  "nbformat_minor": 0,
  "metadata": {
    "colab": {
      "provenance": [],
      "authorship_tag": "ABX9TyOZClxYgMZIcJ4GedK2PmNH"
    },
    "kernelspec": {
      "name": "python3",
      "display_name": "Python 3"
    },
    "language_info": {
      "name": "python"
    }
  },
  "cells": [
    {
      "cell_type": "markdown",
      "source": [
        "\"Write a program that keeps names and email addresses in a dictionary as key-value pairs. The program should display a menu that lets the user look up a person’s email address, add a new name and email address, change an existing email address, and delete an existing name and email address. The program should pickle the dictionary and save it to a file when the user exits the program. Each time the program starts, it should retrieve the dictionary from the file and unpickle it.When testing this program, use fake names and email addresses.\"   "
      ],
      "metadata": {
        "id": "irvjGSKaCWc5"
      }
    },
    {
      "cell_type": "code",
      "source": [
        "import pickle\n",
        "import os\n",
        "\n",
        "def display_menu():\n",
        "  print(\"\\nMenu:\")\n",
        "  print(\"1. Search Email\")\n",
        "  print(\"2. Insert new name and Email\")\n",
        "  print(\"3. Change current Email\")\n",
        "  print(\"4. Delete name and Email\")\n",
        "  print(\"5. Exit program\")\n",
        "\n",
        "def search_email(email_dict):\n",
        "  name = input(\"Enter the name to look up: \")\n",
        "  if name in email_dict:\n",
        "      print(f\"The email for {name} is {email_dict[name]}.\")\n",
        "  else:\n",
        "      print(f\"No email found for {name}.\")\n",
        "\n",
        "def insert_new_email(email_dict):\n",
        "  name = input(\"Enter the name: \")\n",
        "  email = input(\"Enter the Email: \")\n",
        "  email_dict[name] = email\n",
        "  print(f\"{name}'s Email has been added\")\n",
        "\n",
        "def change_email(email_dict):\n",
        "  name = input(\"Enter the name you want to change: \")\n",
        "  if name in email_dict:\n",
        "      new_email = input(\"Enter the new email address: \")\n",
        "      email_dict[name] = new_email\n",
        "      print(f\"{name}'s email address has been updated.\")\n",
        "  else:\n",
        "      print(f\"No email address found for {name}.\")\n",
        "\n",
        "def delete_email(email_dict):\n",
        "  name = input(\"Enter the name to delete: \")\n",
        "  if name in email_dict:\n",
        "      del email_dict[name]\n",
        "      print(f\"{name}'s name and email address have been deleted.\")\n",
        "  else:\n",
        "      print(f\"No email address found for {name}.\")\n",
        "\n",
        "def save_to_file(email_dict, filename):\n",
        "    with open(filename, 'wb') as file:\n",
        "        pickle.dump(email_dict, file)\n",
        "    print(\"Dictionary saved to file.\")\n"
      ],
      "metadata": {
        "id": "NuurZ2b3G53v"
      },
      "execution_count": 8,
      "outputs": []
    },
    {
      "cell_type": "markdown",
      "source": [
        "I think I got the first part all figured out, now on to the last half."
      ],
      "metadata": {
        "id": "RWWAwWwZHgOz"
      }
    },
    {
      "cell_type": "code",
      "source": [
        "import pickle\n",
        "import os\n",
        "\n",
        "def display_menu():\n",
        "  print(\"\\nMenu:\")\n",
        "  print(\"1. Search Email\")\n",
        "  print(\"2. Insert new name and Email\")\n",
        "  print(\"3. Change current Email\")\n",
        "  print(\"4. Delete name and Email\")\n",
        "  print(\"5. Exit program\")\n",
        "\n",
        "def search_email(email_dict):\n",
        "  name = input(\"Enter the name to look up: \")\n",
        "  if name in email_dict:\n",
        "      print(f\"The email for {name} is {email_dict[name]}.\")\n",
        "  else:\n",
        "      print(f\"No email found for {name}.\")\n",
        "\n",
        "def insert_new_email(email_dict):\n",
        "  name = input(\"Enter the name: \")\n",
        "  email = input(\"Enter the Email: \")\n",
        "  email_dict[name] = email\n",
        "  print(f\"{name}'s Email has been added\")\n",
        "\n",
        "def change_email(email_dict):\n",
        "  name = input(\"Enter the name you want to change: \")\n",
        "  if name in email_dict:\n",
        "      new_email = input(\"Enter the new email address: \")\n",
        "      email_dict[name] = new_email\n",
        "      print(f\"{name}'s email address has been updated.\")\n",
        "  else:\n",
        "      print(f\"No email address found for {name}.\")\n",
        "\n",
        "def delete_email(email_dict):\n",
        "  name = input(\"Enter the name to delete: \")\n",
        "  if name in email_dict:\n",
        "      del email_dict[name]\n",
        "      print(f\"{name}'s name and email address have been deleted.\")\n",
        "  else:\n",
        "      print(f\"No email address found for {name}.\")\n",
        "\n",
        "def save_to_file(email_dict, filename):\n",
        "    with open(filename, 'wb') as file:\n",
        "        pickle.dump(email_dict, file)\n",
        "    print(\"Dictionary saved to file.\")\n",
        "\n",
        "\n",
        "\n",
        "def main():\n",
        "  email_dict = {}\n",
        "  filename = \"email_data.pickle\"\n",
        "\n",
        "  if os.path.exists(filename):\n",
        "      with open(filename, 'rb') as file:\n",
        "          email_dict = pickle.load(file)\n",
        "\n",
        "  while True:\n",
        "      display_menu()\n",
        "      choice = input(\"Enter your choice: \")\n",
        "\n",
        "      if choice == '1':\n",
        "          search_email(email_dict)\n",
        "      elif choice == '2':\n",
        "          insert_new_email(email_dict)\n",
        "      elif choice == '3':\n",
        "          change_email(email_dict)\n",
        "      elif choice == '4':\n",
        "          delete_email(email_dict)\n",
        "      elif choice == '5':\n",
        "          save_to_file(email_dict, filename)\n",
        "          break\n",
        "      else:\n",
        "          print(\"Invalid choice. Please enter a number between 1 and 5.\")\n",
        "\n",
        "if __name__ == \"__main__\":\n",
        "    main()"
      ],
      "metadata": {
        "colab": {
          "base_uri": "https://localhost:8080/"
        },
        "id": "nWKKn9VuGJ0S",
        "outputId": "380d6099-2db3-459f-a98d-2ed3fa8a69df"
      },
      "execution_count": null,
      "outputs": [
        {
          "output_type": "stream",
          "name": "stdout",
          "text": [
            "\n",
            "Menu:\n",
            "1. Search Email\n",
            "2. Insert new name and Email\n",
            "3. Change current Email\n",
            "4. Delete name and Email\n",
            "5. Exit program\n",
            "Enter your choice: 1\n",
            "Enter the name to look up: TowMater@Cars.com\n",
            "No email found for TowMater@Cars.com.\n",
            "\n",
            "Menu:\n",
            "1. Search Email\n",
            "2. Insert new name and Email\n",
            "3. Change current Email\n",
            "4. Delete name and Email\n",
            "5. Exit program\n",
            "Enter your choice: 2\n",
            "Enter the name: Korra\n",
            "Enter the Email: KorraTheCat@Gmail.com\n",
            "Korra's Email has been added\n",
            "\n",
            "Menu:\n",
            "1. Search Email\n",
            "2. Insert new name and Email\n",
            "3. Change current Email\n",
            "4. Delete name and Email\n",
            "5. Exit program\n"
          ]
        }
      ]
    },
    {
      "cell_type": "code",
      "source": [],
      "metadata": {
        "id": "h0mKr4v1IEIA"
      },
      "execution_count": null,
      "outputs": []
    },
    {
      "cell_type": "markdown",
      "source": [
        "Everything seems to be running smoothly!\n",
        "\n",
        "I had to confer with the textbook a bit towards the end, making sure that the \"elif\" commands were correct."
      ],
      "metadata": {
        "id": "AaVNDybiI51q"
      }
    },
    {
      "cell_type": "code",
      "source": [],
      "metadata": {
        "id": "kzkCkT8uJDvk"
      },
      "execution_count": null,
      "outputs": []
    }
  ]
}